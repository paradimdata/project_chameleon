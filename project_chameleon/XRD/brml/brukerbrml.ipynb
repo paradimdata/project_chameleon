{
 "cells": [
  {
   "cell_type": "code",
   "execution_count": 3,
   "id": "020c1b00-fdbd-414a-9328-924f5c728cfe",
   "metadata": {},
   "outputs": [],
   "source": [
    "from pathlib import Path\n",
    "import zipfile\n",
    "import xml.etree.ElementTree as ET"
   ]
  },
  {
   "cell_type": "code",
   "execution_count": 5,
   "id": "e028bb85-5a75-4a99-9d91-7e2b574130b5",
   "metadata": {},
   "outputs": [
    {
     "ename": "FileNotFoundError",
     "evalue": "[WinError 2] The system cannot find the file specified: 'practice.brml' -> 'practice.zip'",
     "output_type": "error",
     "traceback": [
      "\u001b[1;31m---------------------------------------------------------------------------\u001b[0m",
      "\u001b[1;31mFileNotFoundError\u001b[0m                         Traceback (most recent call last)",
      "Cell \u001b[1;32mIn[5], line 2\u001b[0m\n\u001b[0;32m      1\u001b[0m p \u001b[38;5;241m=\u001b[39m Path(\u001b[38;5;124m'\u001b[39m\u001b[38;5;124mpractice.brml\u001b[39m\u001b[38;5;124m'\u001b[39m)\n\u001b[1;32m----> 2\u001b[0m p\u001b[38;5;241m.\u001b[39mrename(p\u001b[38;5;241m.\u001b[39mwith_suffix(\u001b[38;5;124m'\u001b[39m\u001b[38;5;124m.zip\u001b[39m\u001b[38;5;124m'\u001b[39m))\n",
      "File \u001b[1;32mD:\\Anaconda\\envs\\xrd\\Lib\\pathlib.py:1175\u001b[0m, in \u001b[0;36mPath.rename\u001b[1;34m(self, target)\u001b[0m\n\u001b[0;32m   1165\u001b[0m \u001b[38;5;28;01mdef\u001b[39;00m \u001b[38;5;21mrename\u001b[39m(\u001b[38;5;28mself\u001b[39m, target):\n\u001b[0;32m   1166\u001b[0m \u001b[38;5;250m    \u001b[39m\u001b[38;5;124;03m\"\"\"\u001b[39;00m\n\u001b[0;32m   1167\u001b[0m \u001b[38;5;124;03m    Rename this path to the target path.\u001b[39;00m\n\u001b[0;32m   1168\u001b[0m \n\u001b[1;32m   (...)\u001b[0m\n\u001b[0;32m   1173\u001b[0m \u001b[38;5;124;03m    Returns the new Path instance pointing to the target path.\u001b[39;00m\n\u001b[0;32m   1174\u001b[0m \u001b[38;5;124;03m    \"\"\"\u001b[39;00m\n\u001b[1;32m-> 1175\u001b[0m     os\u001b[38;5;241m.\u001b[39mrename(\u001b[38;5;28mself\u001b[39m, target)\n\u001b[0;32m   1176\u001b[0m     \u001b[38;5;28;01mreturn\u001b[39;00m \u001b[38;5;28mself\u001b[39m\u001b[38;5;241m.\u001b[39m\u001b[38;5;18m__class__\u001b[39m(target)\n",
      "\u001b[1;31mFileNotFoundError\u001b[0m: [WinError 2] The system cannot find the file specified: 'practice.brml' -> 'practice.zip'"
     ]
    }
   ],
   "source": [
    "p = Path('practice.brml')\n",
    "p.rename(p.with_suffix('.zip'))"
   ]
  },
  {
   "cell_type": "code",
   "execution_count": 10,
   "id": "037a5a52-bfb6-42ee-a0f0-ff62701421cf",
   "metadata": {},
   "outputs": [],
   "source": [
    "zip_file_path = 'D:/Github/project_chameleon/XRD/Bruker brml/practice.zip'\n",
    "#The 'practice' in extractall is the name of the folder things are extracted to\n",
    "with zipfile.ZipFile(zip_file_path, 'r') as zip_ref:\n",
    "    zip_ref.extractall('practice')"
   ]
  },
  {
   "cell_type": "code",
   "execution_count": 7,
   "id": "cfe98929-14cd-4cb6-bb03-29f6d4d1a30c",
   "metadata": {},
   "outputs": [],
   "source": [
    "xml_file_path = 'D:/Chameleon_backup/XRD/Bruker brml/practice/experiment0/RawData0.xml'\n",
    "tree = ET.parse(xml_file_path)\n",
    "root = tree.getroot()"
   ]
  },
  {
   "cell_type": "code",
   "execution_count": 8,
   "id": "19be252e-3e5f-4619-a641-528c91ff88cc",
   "metadata": {},
   "outputs": [
    {
     "name": "stdout",
     "output_type": "stream",
     "text": [
      "Element: IsResumePossible, Attributes: {}\n",
      "Element: MeasurementStatus, Attributes: {}\n",
      "Element: TimeStampStarted, Attributes: {}\n",
      "Element: TimeStampFinished, Attributes: {}\n",
      "Element: ExtLocations, Attributes: {}\n",
      "Element: DataRoutes, Attributes: {}\n",
      "Element: FixedInformation, Attributes: {}\n",
      "Element: Identifier, Attributes: {'IdentificationType': 'Data', 'UserName': 'BrukerAXS', 'MachineName': 'TRANSMISSIONXRD'}\n"
     ]
    }
   ],
   "source": [
    "for child in root:\n",
    "    print(f\"Element: {child.tag}, Attributes: {child.attrib}\")"
   ]
  },
  {
   "cell_type": "code",
   "execution_count": 11,
   "id": "016e9e6e-9101-4cc6-a1e4-f2fbb1fed4c2",
   "metadata": {},
   "outputs": [
    {
     "name": "stdout",
     "output_type": "stream",
     "text": [
      "Attribute Value: BrukerAXS\n"
     ]
    }
   ],
   "source": [
    "for item in root.findall('Identifier'):\n",
    "    attribute_value = item.get('UserName')\n",
    "    print(f\"Attribute Value: {attribute_value}\")"
   ]
  },
  {
   "cell_type": "code",
   "execution_count": null,
   "id": "ff99701d-3d71-4e18-bfe4-a5c0c55f3933",
   "metadata": {},
   "outputs": [],
   "source": []
  }
 ],
 "metadata": {
  "kernelspec": {
   "display_name": "Python 3 (ipykernel)",
   "language": "python",
   "name": "python3"
  },
  "language_info": {
   "codemirror_mode": {
    "name": "ipython",
    "version": 3
   },
   "file_extension": ".py",
   "mimetype": "text/x-python",
   "name": "python",
   "nbconvert_exporter": "python",
   "pygments_lexer": "ipython3",
   "version": "3.11.4"
  }
 },
 "nbformat": 4,
 "nbformat_minor": 5
}
