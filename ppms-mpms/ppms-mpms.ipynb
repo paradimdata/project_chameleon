{
 "cells": [
  {
   "cell_type": "code",
   "execution_count": 20,
   "id": "e94850b2-25c9-45f2-8d51-9ee1122f4841",
   "metadata": {},
   "outputs": [],
   "source": [
    "import numpy as np\n",
    "metadata_limit = 15\n",
    "count = 0"
   ]
  },
  {
   "cell_type": "code",
   "execution_count": 3,
   "id": "347549b9-8d78-43cb-94c4-90c160bf405e",
   "metadata": {},
   "outputs": [],
   "source": [
    "#textfile = open('Bi-O-S_bestsample_Add.dat')\n",
    "holderfile = open('dataholderfile.txt','w')\n",
    "metafile = open('metadata.txt','w')"
   ]
  },
  {
   "cell_type": "code",
   "execution_count": 29,
   "id": "fae04c2a-3d24-4304-94fa-8c17b56a73cf",
   "metadata": {},
   "outputs": [],
   "source": [
    "with open('Bi-O-S_bestsample_Add2.dat', 'r', encoding='latin-1') as fp:\n",
    "    size = len(fp.readlines())"
   ]
  },
  {
   "cell_type": "code",
   "execution_count": 36,
   "id": "407cdf88-39b7-44ce-b662-11d42367e277",
   "metadata": {},
   "outputs": [],
   "source": [
    "with open('Bi-O-S_bestsample_Add2.dat', 'r', encoding='latin-1') as file:\n",
    "    lines = file.readlines()\n",
    "    lines = [line.strip() for line in lines]"
   ]
  },
  {
   "cell_type": "code",
   "execution_count": 37,
   "id": "52edacbc-4d88-4049-a9c0-307f94193f9d",
   "metadata": {},
   "outputs": [],
   "source": [
    "count = 0\n",
    "\n",
    "with open('metadata.txt', 'w') as file:\n",
    "    while count < metadata_limit:\n",
    "        file.write(lines[count] + '\\n')  # Writing each line followed by a newline character\n",
    "        count += 1"
   ]
  },
  {
   "cell_type": "code",
   "execution_count": 43,
   "id": "a6fe39da-71c3-44f0-8a79-f090f6cb0424",
   "metadata": {},
   "outputs": [],
   "source": [
    "array = []\n",
    "count = 15\n",
    "\n",
    "while count < size:\n",
    "    array.append(lines[count].split(','))\n",
    "    count += 1\n"
   ]
  },
  {
   "cell_type": "code",
   "execution_count": 45,
   "id": "c3844b07-a3ad-4f18-bd6f-f9d1f62c3049",
   "metadata": {},
   "outputs": [
    {
     "name": "stdout",
     "output_type": "stream",
     "text": [
      "['36177929.98', '', '5905', '7.78215', '7.8667', '49998.969', '9.4E-6', '7.8897797', '0.15434945', '0', '0', '4.6354172', '0.0112', '4.6354172', '0.0112', '21.938267', '0.50773674', '0', '100', '', '', '1', '', '', '', '9.1296E-6', '1.023281', '62.248624', '0', '0']\n"
     ]
    }
   ],
   "source": []
  },
  {
   "cell_type": "code",
   "execution_count": null,
   "id": "7b1fb7a7-f2ab-4c6a-8ea7-0ac7235f4d43",
   "metadata": {},
   "outputs": [],
   "source": []
  }
 ],
 "metadata": {
  "kernelspec": {
   "display_name": "Python 3 (ipykernel)",
   "language": "python",
   "name": "python3"
  },
  "language_info": {
   "codemirror_mode": {
    "name": "ipython",
    "version": 3
   },
   "file_extension": ".py",
   "mimetype": "text/x-python",
   "name": "python",
   "nbconvert_exporter": "python",
   "pygments_lexer": "ipython3",
   "version": "3.11.5"
  }
 },
 "nbformat": 4,
 "nbformat_minor": 5
}
