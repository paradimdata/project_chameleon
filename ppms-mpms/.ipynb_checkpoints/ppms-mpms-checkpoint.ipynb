{
 "cells": [
  {
   "cell_type": "code",
   "execution_count": 1,
   "id": "e94850b2-25c9-45f2-8d51-9ee1122f4841",
   "metadata": {},
   "outputs": [],
   "source": [
    "import numpy as np\n",
    "metadata_limit = 15\n",
    "count = 0"
   ]
  },
  {
   "cell_type": "code",
   "execution_count": 2,
   "id": "347549b9-8d78-43cb-94c4-90c160bf405e",
   "metadata": {},
   "outputs": [],
   "source": [
    "#textfile = open('Bi-O-S_bestsample_Add.dat')\n",
    "holderfile = open('dataholderfile.txt','w')\n",
    "metafile = open('metadata.txt','w')"
   ]
  },
  {
   "cell_type": "code",
   "execution_count": 3,
   "id": "fae04c2a-3d24-4304-94fa-8c17b56a73cf",
   "metadata": {},
   "outputs": [],
   "source": [
    "with open('Bi-O-S_bestsample_Add2.dat', 'r', encoding='latin-1') as fp:\n",
    "    size = len(fp.readlines())"
   ]
  },
  {
   "cell_type": "code",
   "execution_count": null,
   "id": "407cdf88-39b7-44ce-b662-11d42367e277",
   "metadata": {},
   "outputs": [],
   "source": [
    "with open('Bi-O-S_bestsample_Add2.dat', 'r', encoding='latin-1') as file:\n",
    "    lines = file.readlines()\n",
    "    lines = [line.strip() for line in lines]"
   ]
  },
  {
   "cell_type": "code",
   "execution_count": null,
   "id": "52edacbc-4d88-4049-a9c0-307f94193f9d",
   "metadata": {},
   "outputs": [],
   "source": [
    "count = 0\n",
    "with open('metadata.txt', 'w') as file:\n",
    "    while count < metadata_limit:\n",
    "        file.write(lines[count] + '\\n')  # Writing each line followed by a newline character\n",
    "        count += 1"
   ]
  },
  {
   "cell_type": "code",
   "execution_count": null,
   "id": "a6fe39da-71c3-44f0-8a79-f090f6cb0424",
   "metadata": {},
   "outputs": [],
   "source": [
    "array = []\n",
    "count = 15\n",
    "while count < size:\n",
    "    array.append(lines[count].split(','))\n",
    "    count += 1"
   ]
  },
  {
   "cell_type": "code",
   "execution_count": 7,
   "id": "81214736-e88b-4d95-9cc3-96700c3bc9ad",
   "metadata": {},
   "outputs": [],
   "source": [
    "header = lines[13].split(',')"
   ]
  },
  {
   "cell_type": "code",
   "execution_count": null,
   "id": "a610161f-8713-43fe-8ea6-ca0b97f22a93",
   "metadata": {},
   "outputs": [],
   "source": [
    "with open('dataholder.txt', 'w') as datafile:\n",
    "    datafile.write(header[0] + ', ' + header[4] + ', ' + header[5] + ', ' + header[6] + '\\n')\n",
    "    #datafile.write(array[count][0] + ', ' + array[count][4] + ', ' + array[count][5] + ', ' + array[count][6] + '\\n')\n",
    "    count = 15\n",
    "    datafile.write(array[count][0] + ', ' + array[count][4] + ', ' + array[count][5] + ', ' + array[count][6] + '\\n')\n",
    "    while count < size:\n",
    "        if ('Error' in array[count][1]):\n",
    "            continue\n",
    "        else:\n",
    "            datafile.write(array[count][0] + ', ' + array[count][4] + ', ' + array[count][5] + ', ' + array[count][6] + '\\n')\n",
    "            count += 1"
   ]
  },
  {
   "cell_type": "code",
   "execution_count": null,
   "id": "8f1e15da-6f3a-4a32-9420-6d0d3c813ee0",
   "metadata": {},
   "outputs": [],
   "source": []
  }
 ],
 "metadata": {
  "kernelspec": {
   "display_name": "Python 3 (ipykernel)",
   "language": "python",
   "name": "python3"
  },
  "language_info": {
   "codemirror_mode": {
    "name": "ipython",
    "version": 3
   },
   "file_extension": ".py",
   "mimetype": "text/x-python",
   "name": "python",
   "nbconvert_exporter": "python",
   "pygments_lexer": "ipython3",
   "version": "3.11.5"
  }
 },
 "nbformat": 4,
 "nbformat_minor": 5
}
