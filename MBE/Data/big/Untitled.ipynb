{
 "cells": [
  {
   "cell_type": "code",
   "execution_count": 5,
   "id": "5851cf3a-3922-4d5d-bd80-9a2286fb4c3a",
   "metadata": {},
   "outputs": [],
   "source": [
    "import os"
   ]
  },
  {
   "cell_type": "code",
   "execution_count": 7,
   "id": "afe2ce70-5f22-42d1-be55-7e7e52251bc6",
   "metadata": {},
   "outputs": [
    {
     "ename": "FileNotFoundError",
     "evalue": "[WinError 2] The system cannot find the file specified: 'D:/Github/Project_chameleon/MBE/Data/Air_pressure_low.Value'",
     "output_type": "error",
     "traceback": [
      "\u001b[1;31m---------------------------------------------------------------------------\u001b[0m",
      "\u001b[1;31mFileNotFoundError\u001b[0m                         Traceback (most recent call last)",
      "Cell \u001b[1;32mIn[7], line 2\u001b[0m\n\u001b[0;32m      1\u001b[0m file_name \u001b[38;5;241m=\u001b[39m \u001b[38;5;124m\"\u001b[39m\u001b[38;5;124mD:/Github/Project_chameleon/MBE/Data/Air_pressure_low.Value\u001b[39m\u001b[38;5;124m\"\u001b[39m\n\u001b[1;32m----> 2\u001b[0m file_stats \u001b[38;5;241m=\u001b[39m os\u001b[38;5;241m.\u001b[39mstat(file_name)\n",
      "\u001b[1;31mFileNotFoundError\u001b[0m: [WinError 2] The system cannot find the file specified: 'D:/Github/Project_chameleon/MBE/Data/Air_pressure_low.Value'"
     ]
    }
   ],
   "source": [
    "file_name = \"D:/Github/Project_chameleon/MBE/Data/Air_pressure_low.Value\"\n",
    "file_stats = os.stat(file_name)"
   ]
  },
  {
   "cell_type": "code",
   "execution_count": null,
   "id": "a1516b7d-17fe-439b-b74f-8e6f0067e593",
   "metadata": {},
   "outputs": [],
   "source": [
    "print(file_stats)\n",
    "print({file_stats.st_size})\n",
    "print({file_stats.st_size/(1024)})"
   ]
  }
 ],
 "metadata": {
  "kernelspec": {
   "display_name": "Python 3 (ipykernel)",
   "language": "python",
   "name": "python3"
  },
  "language_info": {
   "codemirror_mode": {
    "name": "ipython",
    "version": 3
   },
   "file_extension": ".py",
   "mimetype": "text/x-python",
   "name": "python",
   "nbconvert_exporter": "python",
   "pygments_lexer": "ipython3",
   "version": "3.11.7"
  }
 },
 "nbformat": 4,
 "nbformat_minor": 5
}
