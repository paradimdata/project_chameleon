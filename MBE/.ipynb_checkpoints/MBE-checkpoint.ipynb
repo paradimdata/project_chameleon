{
 "cells": [
  {
   "cell_type": "code",
<<<<<<< Updated upstream
   "execution_count": 6,
=======
   "execution_count": 4,
>>>>>>> Stashed changes
   "id": "5851cf3a-3922-4d5d-bd80-9a2286fb4c3a",
   "metadata": {},
   "outputs": [],
   "source": [
    "import os\n",
    "import pathlib\n",
    "import shutil"
   ]
  },
  {
   "cell_type": "code",
<<<<<<< Updated upstream
   "execution_count": 7,
=======
   "execution_count": 5,
>>>>>>> Stashed changes
   "id": "afe2ce70-5f22-42d1-be55-7e7e52251bc6",
   "metadata": {},
   "outputs": [
    {
     "name": "stdout",
     "output_type": "stream",
     "text": [
      "D:\\Github\\project_chameleon\\MBE\\Data\\test.txt\n"
     ]
    },
    {
     "data": {
      "text/plain": [
<<<<<<< Updated upstream
       "True"
      ]
     },
     "execution_count": 7,
=======
       "False"
      ]
     },
     "execution_count": 5,
>>>>>>> Stashed changes
     "metadata": {},
     "output_type": "execute_result"
    }
   ],
   "source": [
    "file_path = pathlib.Path(\"D://Github/project_chameleon/MBE/Data/test.txt\") \n",
    "directory_path = pathlib.Path(\"D://Github/project_chameleon/MBE/Data/\")\n",
    "print(file_path)\n",
    "file_path.exists()\n"
   ]
  },
  {
   "cell_type": "code",
   "execution_count": 61,
   "id": "5f8af629-69d6-467f-9af4-2fb08a08651d",
   "metadata": {},
   "outputs": [],
   "source": [
    "file_stats = os.stat(file_path)"
   ]
  },
  {
   "cell_type": "code",
   "execution_count": 63,
   "id": "a1516b7d-17fe-439b-b74f-8e6f0067e593",
   "metadata": {},
   "outputs": [
    {
     "name": "stdout",
     "output_type": "stream",
     "text": [
      "os.stat_result(st_mode=33206, st_ino=562949953708903, st_dev=2787528383, st_nlink=1, st_uid=0, st_gid=0, st_size=49, st_atime=1705950047, st_mtime=1597514194, st_ctime=1597514194)\n",
      "{49}\n",
      "{0.0478515625}\n"
     ]
    }
   ],
   "source": [
    "print(file_stats)\n",
    "print({file_stats.st_size})\n",
    "print({file_stats.st_size/(1024)})"
   ]
  },
  {
   "cell_type": "code",
   "execution_count": 8,
   "id": "defc9636-8230-4099-a286-c8506218806e",
   "metadata": {},
   "outputs": [],
   "source": [
    "small_folder = os.path.join(directory_path, \"small\")\n",
    "big_folder = os.path.join(directory_path, \"big\")"
   ]
  },
  {
   "cell_type": "code",
   "execution_count": 9,
   "id": "bcad4248-3930-4b2a-91b0-cc4ba320f2e5",
   "metadata": {},
   "outputs": [],
   "source": [
    "for folder in [small_folder, big_folder]:\n",
    "        os.makedirs(folder, exist_ok=True)"
   ]
  },
  {
   "cell_type": "code",
   "execution_count": 11,
   "id": "82c2ff04-4cf0-4569-aea8-7d863b97d9f5",
   "metadata": {},
   "outputs": [],
   "source": [
    "    for filename in os.listdir(directory_path):\n",
    "        filepath = os.path.join(directory_path, filename)\n",
    "\n",
    "        # Check if it's a file\n",
    "        if os.path.isfile(filepath):\n",
    "            # Get file size in bytes\n",
    "            file_size = os.path.getsize(filepath)\n",
    "\n",
    "            # Sort files into folders based on size\n",
    "            if file_size < 1024:  # Small file (less than 1 KB)\n",
    "                shutil.move(filepath, os.path.join(small_folder, filename))\n",
    "            else:  # Large file (more than 1 KB)\n",
    "                shutil.move(filepath, os.path.join(big_folder, filename))"
   ]
  },
  {
   "cell_type": "code",
<<<<<<< Updated upstream
   "execution_count": null,
   "id": "c7d0b5fa-bb1d-4475-a557-f78dd9b33b45",
   "metadata": {},
=======
   "execution_count": 15,
   "id": "c7d0b5fa-bb1d-4475-a557-f78dd9b33b45",
   "metadata": {},
   "outputs": [
    {
     "name": "stdout",
     "output_type": "stream",
     "text": [
      "List of files in the folder:\n",
      "BASF_Exactus.Reading.txt\n",
      "EIES_Channel1_Emission.Reading.txt\n",
      "EIES_Channel1_Rate.Measured.txt\n",
      "EIES_Channel1_Thickness.Reading.txt\n",
      "Ga2O_Base.Measured.txt\n",
      "Ga2O_Base.OutputPercent.txt\n",
      "Ga2O_Tip.Measured.txt\n",
      "Ga2O_Tip.OutputPercent.txt\n",
      "GeO_Base.Measured.txt\n",
      "GeO_Base.OutputPercent.txt\n",
      "GM1_Cryo1_Temp.Reading.txt\n",
      "GM1_subs_center.Measured.txt\n",
      "GM1_subs_center.OutputPercent.txt\n",
      "GM1_subs_center.WorkingSetpoint.txt\n",
      "GM1_subs_rot.Measured.txt\n",
      "GM1_subs_rot.OutputPercent.txt\n",
      "GM1_subs_rot.WorkingSetpoint.txt\n",
      "GM1_TELEMARK_EBEAM_base.Measured.txt\n",
      "GM1_TELEMARK_EBEAM_Emission_Current.Reading.txt\n",
      "GM1_TELEMARK_EBEAM_Filament_Current.Reading.txt\n",
      "GM1_Vacuum.Reading.txt\n",
      "Growth module #1.IonGauge1.Measured.txt\n",
      "Growth module #1.Manipulator.AtHomePosition.txt\n",
      "Growth module #1.Manipulator.Get.txt\n",
      "K_Base.Measured.txt\n",
      "K_Base.OutputPercent.txt\n",
      "Li_Base.Measured.txt\n",
      "Li_Base.OutputPercent.txt\n",
      "Nb2O5_Base.Measured.txt\n",
      "Nb2O5_Base.OutputPercent.txt\n",
      "Nb2O5_Base.WorkingSetpoint.txt\n",
      "O3_Nozzle_Baratron.Measured.txt\n",
      "O3_Nozzle_Baratron_Heater.Measured.txt\n",
      "O3_Nozzle_Baratron_Heater.OutputPercent.txt\n",
      "O3_Nozzle_Baratron_Reading.Reading.txt\n",
      "O3_Nozzle_Direct.Measured.txt\n",
      "O3_Nozzle_IonGauge.Measured.txt\n",
      "O3_Nozzle_IonGauge.OutputPercent.txt\n",
      "Side_Inlet_Baratron.Measured.txt\n",
      "Side_Inlet_Baratron_Heater.Measured.txt\n",
      "Side_Inlet_Baratron_Heater.OutputPercent.txt\n",
      "Side_Inlet_Baratron_Reading.Reading.txt\n",
      "Side_Inlet_IonGauge.Measured.txt\n",
      "SnO_Base.Measured.txt\n",
      "SnO_Base.OutputPercent.txt\n",
      "SnO_Tip.Measured.txt\n",
      "SnO_Tip.OutputPercent.txt\n",
      "Untitled.ipynb\n",
      "V2O3_Base.Measured.txt\n",
      "V2O3_Base.OutputPercent.txt\n",
      "Zn_Base.Measured.txt\n",
      "Zn_Tip.Measured.txt\n",
      "Zn_Tip.OutputPercent.txt\n"
     ]
    }
   ],
   "source": [
    "bigdirectory = \"D://Github/project_chameleon/MBE/Data/big/\"\n",
    "bigdirectory_path = pathlib.Path(bigdirectory)\n",
    "files = [f for f in os.listdir(bigdirectory_path) if os.path.isfile(os.path.join(bigdirectory_path, f))]\n",
    "print(\"List of files in the folder:\")\n",
    "for file in files:\n",
    "    print(file)\n"
   ]
  },
  {
   "cell_type": "code",
   "execution_count": 18,
   "id": "55ed4bdb-22e8-408b-b240-9e7fe5846117",
   "metadata": {},
   "outputs": [
    {
     "name": "stdin",
     "output_type": "stream",
     "text": [
      "Enter file name:  SnO_Tip.OutputPercent.txt\n",
      "Enter start time:  0\n",
      "Enter end time:  10\n"
     ]
    }
   ],
   "source": [
    "file_choice = input(\"Enter file name: \")\n",
    "start_choice = input(\"Enter start time: \")\n",
    "end_choice = input(\"Enter end time: \")"
   ]
  },
  {
   "cell_type": "code",
   "execution_count": 19,
   "id": "ceccfff3-351d-4ce6-91c9-8673baf67759",
   "metadata": {},
   "outputs": [
    {
     "name": "stdout",
     "output_type": "stream",
     "text": [
      "D://Github/project_chameleon/MBE/Data/big/SnO_Tip.OutputPercent.txt\n"
     ]
    }
   ],
   "source": [
    "user_file = bigdirectory + file_choice\n",
    "print(user_file)"
   ]
  },
  {
   "cell_type": "code",
   "execution_count": 33,
   "id": "05ee7b87-742f-4e60-b763-a5f76c1fb371",
   "metadata": {},
   "outputs": [
    {
     "name": "stdout",
     "output_type": "stream",
     "text": [
      "0.000\t25.02600\n",
      "1.323\t25.16360\n"
     ]
    }
   ],
   "source": [
    "with open(user_file, 'r') as file:\n",
    "    lines = file.readlines()\n",
    "    for line in lines:\n",
    "        res = line.split()\n",
    "        if line[:1].isdigit():\n",
    "            if ((res[0] >= start_choice) and (res[0] <= end_choice)):\n",
    "                print(line.strip())"
   ]
  },
  {
   "cell_type": "code",
   "execution_count": null,
   "id": "07fe1e7d-6d81-45b0-91ac-f03c3ea3444b",
   "metadata": {},
>>>>>>> Stashed changes
   "outputs": [],
   "source": []
  }
 ],
 "metadata": {
  "kernelspec": {
   "display_name": "Python 3 (ipykernel)",
   "language": "python",
   "name": "python3"
  },
  "language_info": {
   "codemirror_mode": {
    "name": "ipython",
    "version": 3
   },
   "file_extension": ".py",
   "mimetype": "text/x-python",
   "name": "python",
   "nbconvert_exporter": "python",
   "pygments_lexer": "ipython3",
   "version": "3.11.7"
  }
 },
 "nbformat": 4,
 "nbformat_minor": 5
}
