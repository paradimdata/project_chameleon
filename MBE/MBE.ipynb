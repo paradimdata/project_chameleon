{
 "cells": [
  {
   "cell_type": "code",
   "execution_count": 6,
   "id": "5851cf3a-3922-4d5d-bd80-9a2286fb4c3a",
   "metadata": {},
   "outputs": [],
   "source": [
    "import os\n",
    "import pathlib\n",
    "import shutil"
   ]
  },
  {
   "cell_type": "code",
   "execution_count": 7,
   "id": "afe2ce70-5f22-42d1-be55-7e7e52251bc6",
   "metadata": {},
   "outputs": [
    {
     "name": "stdout",
     "output_type": "stream",
     "text": [
      "D:\\Github\\project_chameleon\\MBE\\Data\\test.txt\n"
     ]
    },
    {
     "data": {
      "text/plain": [
       "True"
      ]
     },
     "execution_count": 7,
     "metadata": {},
     "output_type": "execute_result"
    }
   ],
   "source": [
    "file_path = pathlib.Path(\"D://Github/project_chameleon/MBE/Data/test.txt\") \n",
    "directory_path = pathlib.Path(\"D://Github/project_chameleon/MBE/Data/\")\n",
    "print(file_path)\n",
    "file_path.exists()\n"
   ]
  },
  {
   "cell_type": "code",
   "execution_count": 61,
   "id": "5f8af629-69d6-467f-9af4-2fb08a08651d",
   "metadata": {},
   "outputs": [],
   "source": [
    "file_stats = os.stat(file_path)"
   ]
  },
  {
   "cell_type": "code",
   "execution_count": 63,
   "id": "a1516b7d-17fe-439b-b74f-8e6f0067e593",
   "metadata": {},
   "outputs": [
    {
     "name": "stdout",
     "output_type": "stream",
     "text": [
      "os.stat_result(st_mode=33206, st_ino=562949953708903, st_dev=2787528383, st_nlink=1, st_uid=0, st_gid=0, st_size=49, st_atime=1705950047, st_mtime=1597514194, st_ctime=1597514194)\n",
      "{49}\n",
      "{0.0478515625}\n"
     ]
    }
   ],
   "source": [
    "print(file_stats)\n",
    "print({file_stats.st_size})\n",
    "print({file_stats.st_size/(1024)})"
   ]
  },
  {
   "cell_type": "code",
   "execution_count": 8,
   "id": "defc9636-8230-4099-a286-c8506218806e",
   "metadata": {},
   "outputs": [],
   "source": [
    "small_folder = os.path.join(directory_path, \"small\")\n",
    "big_folder = os.path.join(directory_path, \"big\")"
   ]
  },
  {
   "cell_type": "code",
   "execution_count": 9,
   "id": "bcad4248-3930-4b2a-91b0-cc4ba320f2e5",
   "metadata": {},
   "outputs": [],
   "source": [
    "for folder in [small_folder, big_folder]:\n",
    "        os.makedirs(folder, exist_ok=True)"
   ]
  },
  {
   "cell_type": "code",
   "execution_count": 11,
   "id": "82c2ff04-4cf0-4569-aea8-7d863b97d9f5",
   "metadata": {},
   "outputs": [],
   "source": [
    "    for filename in os.listdir(directory_path):\n",
    "        filepath = os.path.join(directory_path, filename)\n",
    "\n",
    "        # Check if it's a file\n",
    "        if os.path.isfile(filepath):\n",
    "            # Get file size in bytes\n",
    "            file_size = os.path.getsize(filepath)\n",
    "\n",
    "            # Sort files into folders based on size\n",
    "            if file_size < 1024:  # Small file (less than 1 KB)\n",
    "                shutil.move(filepath, os.path.join(small_folder, filename))\n",
    "            else:  # Large file (more than 1 KB)\n",
    "                shutil.move(filepath, os.path.join(big_folder, filename))"
   ]
  },
  {
   "cell_type": "code",
   "execution_count": null,
   "id": "c7d0b5fa-bb1d-4475-a557-f78dd9b33b45",
   "metadata": {},
   "outputs": [],
   "source": []
  }
 ],
 "metadata": {
  "kernelspec": {
   "display_name": "Python 3 (ipykernel)",
   "language": "python",
   "name": "python3"
  },
  "language_info": {
   "codemirror_mode": {
    "name": "ipython",
    "version": 3
   },
   "file_extension": ".py",
   "mimetype": "text/x-python",
   "name": "python",
   "nbconvert_exporter": "python",
   "pygments_lexer": "ipython3",
   "version": "3.11.7"
  }
 },
 "nbformat": 4,
 "nbformat_minor": 5
}
