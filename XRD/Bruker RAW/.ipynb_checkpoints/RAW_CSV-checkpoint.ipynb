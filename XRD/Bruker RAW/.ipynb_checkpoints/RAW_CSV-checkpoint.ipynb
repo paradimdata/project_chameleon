{
 "cells": [
  {
   "cell_type": "code",
   "execution_count": 6,
   "id": "56a85420-0d1d-42bd-b386-48f03da1982f",
   "metadata": {},
   "outputs": [],
   "source": [
    "import os\n",
    "import numpy as np\n",
    "import matplotlib.pyplot as plt\n",
    "import xylib"
   ]
  },
  {
   "cell_type": "code",
   "execution_count": 2,
   "id": "b1785391-5e2b-493c-96f3-84cbef2aa598",
   "metadata": {},
   "outputs": [
    {
     "name": "stdout",
     "output_type": "stream",
     "text": [
      "File Size is : 13020 bytes\n"
     ]
    }
   ],
   "source": [
    "file_size = os.path.getsize('test.RAW')\n",
    "print(\"File Size is :\", file_size, \"bytes\")"
   ]
  },
  {
   "cell_type": "code",
   "execution_count": 13,
   "id": "d2aa1a13-966e-4d9f-9879-7073813c1266",
   "metadata": {},
   "outputs": [],
   "source": [
    "%run xyconv.py test.RAW test.txt"
   ]
  },
  {
   "cell_type": "code",
   "execution_count": null,
   "id": "64d69a5c-250d-4d48-9526-c1454a1a8855",
   "metadata": {},
   "outputs": [],
   "source": []
  }
 ],
 "metadata": {
  "kernelspec": {
   "display_name": "Python 3 (ipykernel)",
   "language": "python",
   "name": "python3"
  },
  "language_info": {
   "codemirror_mode": {
    "name": "ipython",
    "version": 3
   },
   "file_extension": ".py",
   "mimetype": "text/x-python",
   "name": "python",
   "nbconvert_exporter": "python",
   "pygments_lexer": "ipython3",
   "version": "3.11.4"
  }
 },
 "nbformat": 4,
 "nbformat_minor": 5
}
