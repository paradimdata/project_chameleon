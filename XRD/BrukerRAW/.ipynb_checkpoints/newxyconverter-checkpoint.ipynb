{
 "cells": [
  {
   "cell_type": "code",
   "execution_count": 2,
   "id": "4d053b97-916d-47cd-a8cc-0ade1c98e5dc",
   "metadata": {},
   "outputs": [],
   "source": [
    "import argparse\n",
    "import sys\n",
    "import xylib\n",
    "\n",
    "__version__ = xylib.xylib_get_version()"
   ]
  },
  {
   "cell_type": "code",
   "execution_count": 3,
   "id": "8f7acd23-25dd-4920-bbb2-a4b6e0c6f0b9",
   "metadata": {},
   "outputs": [
    {
     "name": "stdout",
     "output_type": "stream",
     "text": [
      "cpi                 : Sietronics Sieray CPI\n",
      "uxd                 : Bruker Diffrac-AT UXD\n",
      "rigaku_dat          : Rigaku DAT\n",
      "bruker_raw          : Siemens/Bruker RAW\n",
      "bruker_spc          : Bruker ESP300-E SPC\n",
      "vamas               : VAMAS ISO-14976\n",
      "philips_udf         : Philips UDF\n",
      "spe                 : PI WinSpec SPE\n",
      "pdcif               : Powder Diffraction CIF\n",
      "philips_rd          : Philips PC-APD RD/SD\n",
      "xrdml               : PANalytical XRDML\n",
      "canberra_mca        : Canberra MCA\n",
      "canberra_cnf        : Canberra CNF\n",
      "xfit_xdd            : XFIT XDD\n",
      "riet7               : RIET7/LHPM/PSI_DMC\n",
      "dbws                : DBWS data\n",
      "chiplot             : ChiPLOT data\n",
      "spectra             : Spectra / VGX 900\n",
      "specsxy             : SPECS SpecsLab2 xy\n",
      "csv                 : CSV or TSV\n",
      "xsyg                : Freiberg Instruments (FI) Lexsyg\n",
      "text                : Text\n"
     ]
    }
   ],
   "source": [
    "n = 0\n",
    "while True:\n",
    "    form = xylib.xylib_get_format(n)\n",
    "    if not form:\n",
    "        break\n",
    "    print('%-20s: %s' % (form.name, form.desc))\n",
    "    n += 1"
   ]
  },
  {
   "cell_type": "code",
   "execution_count": 6,
   "id": "e90f0634-d1c8-45d8-b3d5-51f9911fa24d",
   "metadata": {},
   "outputs": [
    {
     "name": "stdout",
     "output_type": "stream",
     "text": [
      "Name: bruker_raw\n",
      "Description: Siemens/Bruker RAW\n",
      "Possible extensions: raw\n",
      "Flags: binary-file multi-block\n",
      "Options: -\n"
     ]
    }
   ],
   "source": [
    "fi = xylib.xylib_get_format_by_name(\"bruker_raw\")\n",
    "if fi:\n",
    "    print(\"Name: %s\" % fi.name)\n",
    "    print(\"Description: %s\" % fi.desc)\n",
    "    print(\"Possible extensions: %s\" % (fi.exts or \"(not specified)\"))\n",
    "    print(\"Flags: %s-file %s-block\" % (\n",
    "        (\"binary\" if fi.binary else \"text\"),\n",
    "        (\"multi\" if fi.multiblock else \"single\")))\n",
    "    print(\"Options: %s\" % (fi.valid_options or '-'))\n",
    "else:\n",
    "    print(\"Unknown file format.\")"
   ]
  },
  {
   "cell_type": "code",
   "execution_count": 7,
   "id": "dcdbcfcf-91a8-4f1a-9507-0eadcfe7c7b8",
   "metadata": {},
   "outputs": [],
   "source": [
    "def export_metadata(f, meta):\n",
    "    for i in range(meta.size()):\n",
    "        key = meta.get_key(i)\n",
    "        value = meta.get(key)\n",
    "        f.write('# %s: %s\\n' % (key, value.replace('\\n', '\\n#\\t')))"
   ]
  },
  {
   "cell_type": "code",
   "execution_count": 11,
   "id": "0a2fda12-34e6-4d54-a28f-9a78834263be",
   "metadata": {},
   "outputs": [
    {
     "data": {
      "text/plain": [
       "43"
      ]
     },
     "execution_count": 11,
     "metadata": {},
     "output_type": "execute_result"
    }
   ],
   "source": [
    "d = xylib.load_file('test.raw')\n",
    "f = open(\"final.txt\",\"w+\")\n",
    "f.write('# exported by xylib from a %s file\\n' % d.fi.name)"
   ]
  },
  {
   "cell_type": "code",
   "execution_count": 13,
   "id": "588cedce-242e-46a0-8649-2a22bdcac460",
   "metadata": {},
   "outputs": [],
   "source": [
    "nb = d.get_block_count()\n",
    "for i in range(nb):\n",
    "    block = d.get_block(i)\n",
    "    if nb > 1 or block.get_name():\n",
    "        f.write('\\n### block #%d %s\\n', i, block.get_name())\n",
    "    else:\n",
    "        export_metadata(f, block.meta)\n",
    "\n",
    "    ncol = block.get_column_count()\n",
    "    # column 0 is pseudo-column with point indices, we skip it\n",
    "    col_names = [block.get_column(k).get_name() or ('column_%d' % k)\n",
    "                 for k in range(1, ncol+1)]\n",
    "    f.write('# ' + '\\t'.join(col_names) + '\\n')\n",
    "    nrow = block.get_point_count()\n",
    "    for j in range(nrow):\n",
    "        values = [\"%.6f\" % block.get_column(k).get_value(j)\n",
    "                  for k in range(1, ncol+1)]\n",
    "        f.write('\\t'.join(values) + '\\n')"
   ]
  },
  {
   "cell_type": "code",
   "execution_count": null,
   "id": "e3545cb6-0eda-42e9-bed7-50460404d74a",
   "metadata": {},
   "outputs": [],
   "source": []
  }
 ],
 "metadata": {
  "kernelspec": {
   "display_name": "Python 3 (ipykernel)",
   "language": "python",
   "name": "python3"
  },
  "language_info": {
   "codemirror_mode": {
    "name": "ipython",
    "version": 3
   },
   "file_extension": ".py",
   "mimetype": "text/x-python",
   "name": "python",
   "nbconvert_exporter": "python",
   "pygments_lexer": "ipython3",
   "version": "3.11.4"
  }
 },
 "nbformat": 4,
 "nbformat_minor": 5
}
